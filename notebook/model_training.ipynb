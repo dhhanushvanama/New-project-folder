{
 "cells": [
  {
   "cell_type": "markdown",
   "id": "dcf9baf5",
   "metadata": {},
   "source": [
    "# Model Training Notebook for Startup Bankruptcy Prediction"
   ]
  },
  {
   "cell_type": "code",
   "execution_count": null,
   "id": "eb2f1d99",
   "metadata": {},
   "outputs": [],
   "source": [
    "# Model Training for Startup Bankruptcy Prediction\n",
    "\n",
    "import pandas as pd\n",
    "import numpy as np\n",
    "from sklearn.model_selection import train_test_split\n",
    "from sklearn.preprocessing import StandardScaler\n",
    "from sklearn.linear_model import LogisticRegression\n",
    "from sklearn.ensemble import RandomForestClassifier\n",
    "from sklearn.svm import SVC\n",
    "from sklearn.metrics import classification_report, roc_auc_score\n",
    "from imblearn.over_sampling import SMOTE\n",
    "\n",
    "# Load data\n",
    "df = pd.read_csv(\"data.csv\")\n",
    "X = df.drop(\"Bankrupt?\", axis=1)\n",
    "y = df[\"Bankrupt?\"]\n",
    "\n",
    "# Train-test split\n",
    "X_train, X_test, y_train, y_test = train_test_split(X, y, test_size=0.2, random_state=42)\n",
    "\n",
    "# SMOTE to handle imbalance\n",
    "sm = SMOTE(random_state=42)\n",
    "X_train, y_train = sm.fit_resample(X_train, y_train)\n",
    "\n",
    "# Feature scaling\n",
    "scaler = StandardScaler()\n",
    "X_train = scaler.fit_transform(X_train)\n",
    "X_test = scaler.transform(X_test)"
   ]
  },
  {
   "cell_type": "code",
   "execution_count": 3,
   "id": "c1ca3d8a",
   "metadata": {},
   "outputs": [
    {
     "name": "stdout",
     "output_type": "stream",
     "text": [
      "\n",
      "Logistic Regression\n",
      "              precision    recall  f1-score   support\n",
      "\n",
      "           0       0.99      0.89      0.94      1313\n",
      "           1       0.19      0.69      0.30        51\n",
      "\n",
      "    accuracy                           0.88      1364\n",
      "   macro avg       0.59      0.79      0.62      1364\n",
      "weighted avg       0.96      0.88      0.91      1364\n",
      "\n",
      "ROC AUC: 0.8900138882666546\n",
      "\n",
      "Random Forest\n",
      "              precision    recall  f1-score   support\n",
      "\n",
      "           0       0.98      0.96      0.97      1313\n",
      "           1       0.36      0.57      0.44        51\n",
      "\n",
      "    accuracy                           0.95      1364\n",
      "   macro avg       0.67      0.76      0.71      1364\n",
      "weighted avg       0.96      0.95      0.95      1364\n",
      "\n",
      "ROC AUC: 0.9266161910308678\n",
      "\n",
      "SVC\n",
      "              precision    recall  f1-score   support\n",
      "\n",
      "           0       0.99      0.92      0.95      1313\n",
      "           1       0.24      0.65      0.35        51\n",
      "\n",
      "    accuracy                           0.91      1364\n",
      "   macro avg       0.61      0.78      0.65      1364\n",
      "weighted avg       0.96      0.91      0.93      1364\n",
      "\n",
      "ROC AUC: 0.9158042501082687\n"
     ]
    }
   ],
   "source": [
    "# Train and evaluate models\n",
    "\n",
    "models = {\n",
    "    \"Logistic Regression\": LogisticRegression(max_iter=1000),\n",
    "    \"Random Forest\": RandomForestClassifier(n_estimators=100),\n",
    "    \"SVC\": SVC(probability=True)\n",
    "}\n",
    "\n",
    "for name, model in models.items():\n",
    "    model.fit(X_train, y_train)\n",
    "    y_pred = model.predict(X_test)\n",
    "    y_prob = model.predict_proba(X_test)[:,1] if hasattr(model, \"predict_proba\") else None\n",
    "\n",
    "    print(f\"\\n{name}\")\n",
    "    print(classification_report(y_test, y_pred))\n",
    "    if y_prob is not None:\n",
    "        print(\"ROC AUC:\", roc_auc_score(y_test, y_prob))"
   ]
  }
 ],
 "metadata": {
  "kernelspec": {
   "display_name": "Python 3",
   "language": "python",
   "name": "python3"
  },
  "language_info": {
   "codemirror_mode": {
    "name": "ipython",
    "version": 3
   },
   "file_extension": ".py",
   "mimetype": "text/x-python",
   "name": "python",
   "nbconvert_exporter": "python",
   "pygments_lexer": "ipython3",
   "version": "3.13.5"
  }
 },
 "nbformat": 4,
 "nbformat_minor": 5
}
